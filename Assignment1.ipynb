{
 "cells": [
  {
   "cell_type": "raw",
   "id": "3c0f3ff7",
   "metadata": {},
   "source": [
    "1. In the below elements which of them are values or an expression? eg:- values can be\n",
    "integer or string and expressions will be mathematical operators."
   ]
  },
  {
   "cell_type": "raw",
   "id": "04605fbe",
   "metadata": {},
   "source": [
    "Ans :*:expression"
   ]
  },
  {
   "cell_type": "raw",
   "id": "019f4cc7",
   "metadata": {},
   "source": [
    "'hello':value"
   ]
  },
  {
   "cell_type": "raw",
   "id": "1f6fcb1e",
   "metadata": {},
   "source": [
    "-87.8 :value"
   ]
  },
  {
   "cell_type": "raw",
   "id": "13c52098",
   "metadata": {},
   "source": [
    "- :expression"
   ]
  },
  {
   "cell_type": "raw",
   "id": "3dcabffb",
   "metadata": {},
   "source": [
    "/ :expression"
   ]
  },
  {
   "cell_type": "raw",
   "id": "7fec266a",
   "metadata": {},
   "source": [
    "+ :expression"
   ]
  },
  {
   "cell_type": "raw",
   "id": "7fb74f30",
   "metadata": {},
   "source": [
    "6 :value"
   ]
  },
  {
   "cell_type": "raw",
   "id": "3dced7e3",
   "metadata": {},
   "source": [
    "2. What is the difference between string and variable?"
   ]
  },
  {
   "cell_type": "raw",
   "id": "a27d33ad",
   "metadata": {},
   "source": [
    "Ans : A variable is a reference to the value stored in the memory . A string is a datatype which allows to store characters various operations such as append , length using inbuilt functions.String is immutable datatype."
   ]
  },
  {
   "cell_type": "raw",
   "id": "183a3111",
   "metadata": {},
   "source": [
    "3. Describe three different data types."
   ]
  },
  {
   "cell_type": "raw",
   "id": "0cbd754f",
   "metadata": {},
   "source": [
    "Ans:\n",
    "List is a datatype that stores values in either homogenous or heterogenous manner.It is denoted using [] brackets\n",
    "eg: l=[1,2,'def',True].List is mutable datatype\n",
    "\n",
    "Tuple is similar to list,it also stores values in either homogenus or heterogenous manner.It is denoted using () brackets.Tuple is immutable datatype\n",
    "eg:t=(3,7,'fer',3+5j)\n",
    "\n",
    "Complex datatype has two parts ie ,real and imaginary.Imaginary part is always denoted with j.The value of square of j is -1,It has in built functions such as conjugate , real and imag\n",
    "eg:8+6j"
   ]
  },
  {
   "cell_type": "raw",
   "id": "bdc09570",
   "metadata": {},
   "source": [
    "4. What is an expression made up of? What do all expressions do?"
   ]
  },
  {
   "cell_type": "raw",
   "id": "5e83b8d4",
   "metadata": {},
   "source": [
    "Ans:An expression is made up of either operators, literals or variables.Expressions are representations of values."
   ]
  },
  {
   "cell_type": "raw",
   "id": "c1bf5c0a",
   "metadata": {},
   "source": [
    "5. This assignment statements, like spam = 10. What is the difference between an\n",
    "expression and a statement?"
   ]
  },
  {
   "cell_type": "raw",
   "id": "2b0ff6a7",
   "metadata": {},
   "source": [
    "Ans:A statement is an instruction followed by the interpreter whereas an expression is combination of variables,operators and values that evaluates and returns the results"
   ]
  },
  {
   "cell_type": "raw",
   "id": "848808b0",
   "metadata": {},
   "source": [
    "6. After running the following code, what does the variable bacon contain?\n",
    "bacon = 22\n",
    "bacon + 1"
   ]
  },
  {
   "cell_type": "code",
   "execution_count": 2,
   "id": "94f0683d",
   "metadata": {},
   "outputs": [],
   "source": [
    "bacon=22"
   ]
  },
  {
   "cell_type": "code",
   "execution_count": 3,
   "id": "6f4f7bc3",
   "metadata": {},
   "outputs": [
    {
     "data": {
      "text/plain": [
       "23"
      ]
     },
     "execution_count": 3,
     "metadata": {},
     "output_type": "execute_result"
    }
   ],
   "source": [
    "bacon+1"
   ]
  },
  {
   "cell_type": "code",
   "execution_count": 4,
   "id": "aa640ff4",
   "metadata": {},
   "outputs": [
    {
     "data": {
      "text/plain": [
       "22"
      ]
     },
     "execution_count": 4,
     "metadata": {},
     "output_type": "execute_result"
    }
   ],
   "source": [
    "bacon"
   ]
  },
  {
   "cell_type": "raw",
   "id": "ade2c6bb",
   "metadata": {},
   "source": [
    "The variable bacon contains value 22 because after executing the expression bacon+1 it is not assigned back to bacon.Hence bacon=22"
   ]
  },
  {
   "cell_type": "raw",
   "id": "832658df",
   "metadata": {},
   "source": [
    "7. What should the values of the following two terms be?\n",
    "'spam' + 'spamspam'\n",
    "'spam' * 3"
   ]
  },
  {
   "cell_type": "code",
   "execution_count": 5,
   "id": "3be48fe1",
   "metadata": {},
   "outputs": [
    {
     "data": {
      "text/plain": [
       "'spamspamspam'"
      ]
     },
     "execution_count": 5,
     "metadata": {},
     "output_type": "execute_result"
    }
   ],
   "source": [
    "'spam'+'spamspam'"
   ]
  },
  {
   "cell_type": "code",
   "execution_count": 6,
   "id": "28cccde4",
   "metadata": {},
   "outputs": [
    {
     "data": {
      "text/plain": [
       "'spamspamspam'"
      ]
     },
     "execution_count": 6,
     "metadata": {},
     "output_type": "execute_result"
    }
   ],
   "source": [
    "'spam' *3"
   ]
  },
  {
   "cell_type": "raw",
   "id": "d5d6002b",
   "metadata": {},
   "source": [
    "8. Why is eggs a valid variable name while 100 is invalid?"
   ]
  },
  {
   "cell_type": "raw",
   "id": "dc47c7c4",
   "metadata": {},
   "source": [
    "Ans: eggs is a sequence of characters whereas 100 is series of digits.Python doesnt accept digits entirely in variable name"
   ]
  },
  {
   "cell_type": "raw",
   "id": "dba291bf",
   "metadata": {},
   "source": [
    "9. What three functions can be used to get the integer, floating-point number, or string\n",
    "version of a value?"
   ]
  },
  {
   "cell_type": "code",
   "execution_count": 7,
   "id": "31970f1d",
   "metadata": {},
   "outputs": [
    {
     "data": {
      "text/plain": [
       "4"
      ]
     },
     "execution_count": 7,
     "metadata": {},
     "output_type": "execute_result"
    }
   ],
   "source": [
    "int(4.5)"
   ]
  },
  {
   "cell_type": "code",
   "execution_count": 8,
   "id": "0f40034a",
   "metadata": {},
   "outputs": [
    {
     "data": {
      "text/plain": [
       "3.0"
      ]
     },
     "execution_count": 8,
     "metadata": {},
     "output_type": "execute_result"
    }
   ],
   "source": [
    "float(3)"
   ]
  },
  {
   "cell_type": "code",
   "execution_count": 9,
   "id": "e8fd01ff",
   "metadata": {},
   "outputs": [
    {
     "data": {
      "text/plain": [
       "'(3+8j)'"
      ]
     },
     "execution_count": 9,
     "metadata": {},
     "output_type": "execute_result"
    }
   ],
   "source": [
    "str(3+8j)"
   ]
  },
  {
   "cell_type": "raw",
   "id": "bf59c776",
   "metadata": {},
   "source": [
    "10. Why does this expression cause an error? How can you fix it?\n",
    "'I have eaten ' + 99 + ' burritos '"
   ]
  },
  {
   "cell_type": "code",
   "execution_count": 10,
   "id": "ebf67d38",
   "metadata": {},
   "outputs": [
    {
     "ename": "TypeError",
     "evalue": "can only concatenate str (not \"int\") to str",
     "output_type": "error",
     "traceback": [
      "\u001b[1;31m---------------------------------------------------------------------------\u001b[0m",
      "\u001b[1;31mTypeError\u001b[0m                                 Traceback (most recent call last)",
      "\u001b[1;32m~\\AppData\\Local\\Temp/ipykernel_8628/2668497954.py\u001b[0m in \u001b[0;36m<module>\u001b[1;34m\u001b[0m\n\u001b[1;32m----> 1\u001b[1;33m \u001b[1;34m'I have eaten '\u001b[0m \u001b[1;33m+\u001b[0m \u001b[1;36m99\u001b[0m \u001b[1;33m+\u001b[0m \u001b[1;34m' burritos '\u001b[0m\u001b[1;33m\u001b[0m\u001b[1;33m\u001b[0m\u001b[0m\n\u001b[0m",
      "\u001b[1;31mTypeError\u001b[0m: can only concatenate str (not \"int\") to str"
     ]
    }
   ],
   "source": [
    "'I have eaten ' + 99 + ' burritos '"
   ]
  },
  {
   "cell_type": "raw",
   "id": "c6d32e5b",
   "metadata": {},
   "source": [
    "This expression causes error because it tries to concatenate str and int values, It can be corrected by changing the int value to string"
   ]
  },
  {
   "cell_type": "code",
   "execution_count": 11,
   "id": "65f44620",
   "metadata": {},
   "outputs": [
    {
     "data": {
      "text/plain": [
       "'I have eaten 99 burritos '"
      ]
     },
     "execution_count": 11,
     "metadata": {},
     "output_type": "execute_result"
    }
   ],
   "source": [
    "'I have eaten ' + '99' + ' burritos '"
   ]
  },
  {
   "cell_type": "code",
   "execution_count": null,
   "id": "dde7a112",
   "metadata": {},
   "outputs": [],
   "source": []
  }
 ],
 "metadata": {
  "kernelspec": {
   "display_name": "Python 3 (ipykernel)",
   "language": "python",
   "name": "python3"
  },
  "language_info": {
   "codemirror_mode": {
    "name": "ipython",
    "version": 3
   },
   "file_extension": ".py",
   "mimetype": "text/x-python",
   "name": "python",
   "nbconvert_exporter": "python",
   "pygments_lexer": "ipython3",
   "version": "3.9.7"
  }
 },
 "nbformat": 4,
 "nbformat_minor": 5
}
